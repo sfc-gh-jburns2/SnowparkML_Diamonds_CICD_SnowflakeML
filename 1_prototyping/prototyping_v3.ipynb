{
 "cells": [
  {
   "cell_type": "markdown",
   "metadata": {},
   "source": [
    "# Important to see the Notebook prototyping approach I use before jumping to the .py for deployment\n",
    "\n",
    "- All of the MLOps + CI/CD work can be found in Jeremiah's repo: https://github.com/Snowflake-Labs/sfguide-data-engineering-with-snowpark-python?_fsi=ua2IK1xV \\\n",
    "\n",
    "- Link to the quickstart with a good write up on the repo: https://quickstarts.snowflake.com/guide/data_engineering_pipelines_with_snowpark_python/index.html?index=..%2F..index#1 \\\n"
   ]
  },
  {
   "cell_type": "markdown",
   "metadata": {},
   "source": [
    "# Snowpark ML - Hands-on Lab\n",
    "\n",
    "### Objective \n",
    "\n",
    "In this session, we will be using the diamonds data set which is widely known and used within the DS community. We’ll ingest it into a Snowpark dataframe from an external stage in S3. The overall goal of this ML project is to predict the price of diamonds given different qualitative and quantitative attributes\n",
    "\n",
    "In this Notebook, we will:\n",
    "\n",
    "* Load, clean, and transform your feature data with SnowML functions + train your models using popular Python ML frameworks such as scikit-learn, xgboost, and lightgbm without moving data out of Snowflake.\n",
    "* Streamline model management and batch inference with built-in versioning support and role-based access control catering to both Python and SQL users with the \n",
    "* Keep your ML pipeline running within Snowflake's security and governance perimeters\n",
    "* Take advantage of the performance and scalability of Snowflake's scalable computing platform\n"
   ]
  },
  {
   "cell_type": "markdown",
   "metadata": {},
   "source": [
    "## SET UP\n",
    "### Step 1 - Import Libraries"
   ]
  },
  {
   "cell_type": "code",
   "execution_count": 15,
   "metadata": {},
   "outputs": [],
   "source": [
    "# --->  REMOVE PYSPARK REFERENCES\n",
    "\n",
    "# import pyspark.sql.functions as f\n",
    "# from pyspark.sql import SparkSession\n",
    "# from pyspark.sql.functions import udf,col\n",
    "# from pyspark.sql.types import IntegerType\n",
    "# spark = SparkSession.builder.appName(\"DataEngeering1\").getOrCreate()\n",
    "\n",
    "# <---  REPLACE WITH SNOWPARK REFERENCES (Rest of code is almost identical) \n",
    "\n",
    "\n",
    "# Snowpark for Python\n",
    "from snowflake.snowpark import Session\n",
    "from snowflake.snowpark.version import VERSION\n",
    "import snowflake.snowpark.functions as F\n",
    "from snowflake.snowpark import types as T\n",
    "\n",
    "# Snowpark ML\n",
    "import snowflake.ml.modeling.preprocessing as snowml #MMS,OE,OHE\n",
    "from snowflake.ml.modeling.pipeline import Pipeline\n",
    "from snowflake.ml.modeling.metrics.correlation import correlation\n",
    "from snowflake.ml.modeling.xgboost import XGBRegressor\n",
    "from snowflake.ml.modeling.model_selection import GridSearchCV\n",
    "from snowflake.ml.registry import Registry\n",
    "from snowflake.ml.modeling.metrics import mean_absolute_percentage_error, mean_squared_error\n",
    "from snowflake.ml._internal.utils import identifier\n",
    "\n",
    "\n",
    "# Data Science Libs\n",
    "import numpy as np\n",
    "import pandas as pd\n",
    "import matplotlib.pyplot as plt\n",
    "import seaborn as sns\n",
    "\n",
    "# Misc\n",
    "import json\n",
    "import joblib\n",
    "import ast\n",
    "import logging\n",
    "import re\n",
    "\n",
    "# warning suppresion\n",
    "import warnings; warnings.simplefilter('ignore')"
   ]
  },
  {
   "cell_type": "markdown",
   "metadata": {},
   "source": [
    "### STEP 2 - Establish Secure Connection to Snowflake\n",
    "Using the Snowpark API, it’s quick and easy to establish a secure connection between Snowflake and Notebook.\n",
    "\n",
    "*Other connection options include Username/Password, MFA, OAuth, Okta, SSO. For more information, refer to the [Python Connector](https://docs.snowflake.com/en/developer-guide/python-connector/python-connector-example) documentation.*"
   ]
  },
  {
   "cell_type": "code",
   "execution_count": 14,
   "metadata": {},
   "outputs": [
    {
     "name": "stdout",
     "output_type": "stream",
     "text": [
      "\n",
      "Connection Established with the following parameters:\n",
      "User                        : RARRANZ\n",
      "Role                        : \"SYSADMIN\"\n",
      "Database                    : \"ML_HOL_DB\"\n",
      "Schema                      : \"ML_HOL_SCHEMA\"\n",
      "Warehouse                   : \"ML_HOL_WH\"\n",
      "Snowflake version           : 8.13.1\n",
      "Snowpark for Python version : 1.12.0\n"
     ]
    }
   ],
   "source": [
    "# Make a Snowpark Connection\n",
    "\n",
    "################################################################################################################\n",
    "#  You can also use the SnowSQL Client to configure your connection params:\n",
    "#  https://docs.snowflake.com/en/user-guide/snowsql-install-config.html\n",
    "#\n",
    "#  >>> from snowflake.ml.utils import connection_params\n",
    "#  >>> session = Session.builder.configs(connection_params.SnowflakeLoginOptions()\n",
    "#  >>> ).create()   \n",
    "#\n",
    "#  NOTE: If you have named connection params then specify the connection name\n",
    "#  Example:\n",
    "#  \n",
    "#  >>> session = Session.builder.configs(\n",
    "#  >>> connection_params.SnowflakeLoginOptions(connection_name='connections.snowml')\n",
    "#  >>> ).create()\n",
    "#\n",
    "#################################################################################################################\n",
    "\n",
    "# Edit the connection.json before creating the session object below\n",
    "# Create Snowflake Session object\n",
    "connection_parameters = json.load(open('../secrets/connection.json'))\n",
    "session = Session.builder.configs(connection_parameters).create()\n",
    "session.sql_simplifier_enabled = True\n",
    "\n",
    "snowflake_environment = session.sql('SELECT current_user(), current_version()').collect()\n",
    "snowpark_version = VERSION\n",
    "\n",
    "# Current Environment Details\n",
    "print('\\nConnection Established with the following parameters:')\n",
    "print('User                        : {}'.format(snowflake_environment[0][0]))\n",
    "print('Role                        : {}'.format(session.get_current_role()))\n",
    "print('Database                    : {}'.format(session.get_current_database()))\n",
    "print('Schema                      : {}'.format(session.get_current_schema()))\n",
    "print('Warehouse                   : {}'.format(session.get_current_warehouse()))\n",
    "print('Snowflake version           : {}'.format(snowflake_environment[0][1]))\n",
    "print('Snowpark for Python version : {}.{}.{}'.format(snowpark_version[0],snowpark_version[1],snowpark_version[2]))"
   ]
  },
  {
   "cell_type": "markdown",
   "metadata": {},
   "source": [
    "## Data Ingestion\n",
    "### STEP 3 - Use the Snowpark DataFrame Reader to read in data from the externally staged `diamonds` CSV file \n",
    "\n",
    "In setup.sql, we staged the `diamonds.csv` file from an external s3 bucket. Now, we can read it in.\n",
    "\n",
    "For more information on loading data, see documentation on [snowflake.snowpark.DataFrameReader](https://docs.snowflake.com/ko/developer-guide/snowpark/reference/python/api/snowflake.snowpark.DataFrameReader.html).\n"
   ]
  },
  {
   "cell_type": "code",
   "execution_count": 16,
   "metadata": {},
   "outputs": [
    {
     "name": "stdout",
     "output_type": "stream",
     "text": [
      "-----------------------------------------------------------------------------------------------------------------------------------\n",
      "|\"name\"                                              |\"size\"   |\"md5\"                             |\"last_modified\"                |\n",
      "-----------------------------------------------------------------------------------------------------------------------------------\n",
      "|s3://sfquickstarts/intro-to-machine-learning-wi...  |2772143  |4d3d1d4bbad5e0806dbaec425cf90196  |Mon, 10 Jul 2023 22:04:47 GMT  |\n",
      "-----------------------------------------------------------------------------------------------------------------------------------\n",
      "\n",
      "---------DATAFRAME EXECUTION PLAN----------\n",
      "Query List:\n",
      "1.\n",
      "CREATE SCOPED TEMPORARY FILE  FORMAT  If  NOT  EXISTS \"ML_HOL_DB\".\"ML_HOL_SCHEMA\".SNOWPARK_TEMP_FILE_FORMAT_6ZSBXADUM5 TYPE  = CSV  FIELD_DELIMITER = ',' FIELD_OPTIONALLY_ENCLOSED_BY = '\"' SKIP_HEADER = 1\n",
      "---\n",
      "2.\n",
      "SELECT $1::NUMBER(3, 2) AS \"carat\", $2::TEXT AS \"cut\", $3::TEXT AS \"color\", $4::TEXT AS \"clarity\", $5::NUMBER(3, 1) AS \"depth\", $6::NUMBER(3, 1) AS \"table\", $7::NUMBER(5, 0) AS \"price\", $8::NUMBER(4, 2) AS \"x\", $9::NUMBER(4, 2) AS \"y\", $10::NUMBER(4, 2) AS \"z\" FROM @DIAMONDS_ASSETS( FILE_FORMAT  => '\"ML_HOL_DB\".\"ML_HOL_SCHEMA\".SNOWPARK_TEMP_FILE_FORMAT_6ZSBXADUM5')\n",
      "--------------------------------------------\n"
     ]
    }
   ],
   "source": [
    "# Show the file before loading\n",
    "session.sql(\"LS @DIAMONDS_ASSETS;\").show()\n",
    "\n",
    "# Create a Snowpark DataFrame that is configured to load data from the CSV file\n",
    "# We can now infer schema from CSV files.\n",
    "diamonds_df = session.read.options({\"field_delimiter\": \",\",\n",
    "                                    \"field_optionally_enclosed_by\": '\"',\n",
    "                                    \"infer_schema\": True,\n",
    "                                    \"parse_header\": True}).csv(\"@DIAMONDS_ASSETS\")\n",
    "# SNOWFLAKE ADVANTAGE: Snowpark Dataframe API \n",
    "# SNOWFLAKE ADVANTAGE: Schema inference\n",
    "\n",
    "#SQL query explain plan\n",
    "diamonds_df.explain()"
   ]
  },
  {
   "cell_type": "markdown",
   "metadata": {},
   "source": [
    "### STEP 4 - Data Exploration &  Table Definitions"
   ]
  },
  {
   "cell_type": "code",
   "execution_count": 17,
   "metadata": {},
   "outputs": [
    {
     "name": "stdout",
     "output_type": "stream",
     "text": [
      "------------------------------------------------------------------------------------------------\n",
      "|\"carat\"  |\"cut\"      |\"color\"  |\"clarity\"  |\"depth\"  |\"table\"  |\"price\"  |\"x\"   |\"y\"   |\"z\"   |\n",
      "------------------------------------------------------------------------------------------------\n",
      "|0.23     |Ideal      |E        |SI2        |61.5     |55.0     |326      |3.95  |3.98  |2.43  |\n",
      "|0.21     |Premium    |E        |SI1        |59.8     |61.0     |326      |3.89  |3.84  |2.31  |\n",
      "|0.23     |Good       |E        |VS1        |56.9     |65.0     |327      |4.05  |4.07  |2.31  |\n",
      "|0.29     |Premium    |I        |VS2        |62.4     |58.0     |334      |4.20  |4.23  |2.63  |\n",
      "|0.31     |Good       |J        |SI2        |63.3     |58.0     |335      |4.34  |4.35  |2.75  |\n",
      "|0.24     |Very Good  |J        |VVS2       |62.8     |57.0     |336      |3.94  |3.96  |2.48  |\n",
      "|0.24     |Very Good  |I        |VVS1       |62.3     |57.0     |336      |3.95  |3.98  |2.47  |\n",
      "|0.26     |Very Good  |H        |SI1        |61.9     |55.0     |337      |4.07  |4.11  |2.53  |\n",
      "|0.22     |Fair       |E        |VS2        |65.1     |61.0     |337      |3.87  |3.78  |2.49  |\n",
      "|0.23     |Very Good  |H        |VS1        |59.4     |61.0     |338      |4.00  |4.05  |2.39  |\n",
      "------------------------------------------------------------------------------------------------\n",
      "\n",
      "-------------------------------------------------------------------------------------------------------------------------------------------------------------------------------------------------\n",
      "|\"SUMMARY\"  |\"carat\"             |\"cut\"      |\"color\"  |\"clarity\"  |\"depth\"             |\"table\"             |\"price\"             |\"x\"                 |\"y\"                |\"z\"                 |\n",
      "-------------------------------------------------------------------------------------------------------------------------------------------------------------------------------------------------\n",
      "|count      |53940.0             |53940      |53940    |53940      |53940.0             |53940.0             |53940.0             |53940.0             |53940.0            |53940.0             |\n",
      "|mean       |0.79793975          |NULL       |NULL     |NULL       |61.7494049          |57.4571839          |3932.799722         |5.73115721          |5.73452595         |3.53873378          |\n",
      "|stddev     |0.4740112443813965  |NULL       |NULL     |NULL       |1.4326213177249598  |2.2344905638646138  |3989.4397381463227  |1.1217607467726798  |1.142134674108093  |0.7056988469595228  |\n",
      "|min        |0.2                 |Fair       |D        |I1         |43.0                |43.0                |326.0               |0.0                 |0.0                |0.0                 |\n",
      "|max        |5.01                |Very Good  |J        |VVS2       |79.0                |95.0                |18823.0             |10.74               |58.9               |31.8                |\n",
      "-------------------------------------------------------------------------------------------------------------------------------------------------------------------------------------------------\n",
      "\n"
     ]
    }
   ],
   "source": [
    "#preview diamonds data\n",
    "diamonds_df.show()\n",
    "# Look at descriptive stats on the DataFrame\n",
    "diamonds_df.describe().show()"
   ]
  },
  {
   "cell_type": "markdown",
   "metadata": {},
   "source": [
    "### STEP 5 - Data Cleaning\n",
    "* First, let's force headers to uppercase using Snowpark DataFrame operations and rename_columns_all_caps functions for standardization purposes.\n",
    "\n",
    "* Next, we standardize the category formatting for `CUT` using Snowpark DataFrame operations.\n",
    "\n",
    "This way, when we write to a Snowflake table, there will be no inconsistencies in how the Snowpark DataFrame will read in the category names. Secondly, the feature transformations on categoricals will be easier to encode."
   ]
  },
  {
   "cell_type": "code",
   "execution_count": 19,
   "metadata": {},
   "outputs": [
    {
     "name": "stdout",
     "output_type": "stream",
     "text": [
      "---------DATAFRAME EXECUTION PLAN----------\n",
      "Query List:\n",
      "1.\n",
      "CREATE SCOPED TEMPORARY FILE  FORMAT  If  NOT  EXISTS \"ML_HOL_DB\".\"ML_HOL_SCHEMA\".SNOWPARK_TEMP_FILE_FORMAT_6ZSBXADUM5 TYPE  = CSV  FIELD_DELIMITER = ',' FIELD_OPTIONALLY_ENCLOSED_BY = '\"' SKIP_HEADER = 1\n",
      "---\n",
      "2.\n",
      "SELECT \"CARAT\", \"COLOR\", \"CLARITY\", \"DEPTH\", \"TABLE_PCT\", \"PRICE\", \"X\", \"Y\", \"Z\", upper(regexp_replace(\"CUT\", '[^a-zA-Z0-9]+', '_', 1, 0)) AS \"CUT\" FROM ( SELECT \"CARAT\", \"COLOR\", \"CLARITY\", \"DEPTH\", \"TABLE_PCT\", \"PRICE\", \"X\", \"Y\", \"Z\", \"CUT\" AS \"CUT\" FROM ( SELECT \"CARAT\" AS \"CARAT\", \"COLOR\" AS \"COLOR\", \"CLARITY\" AS \"CLARITY\", \"DEPTH\" AS \"DEPTH\", \"TABLE_PCT\" AS \"TABLE_PCT\", \"PRICE\" AS \"PRICE\", \"X\" AS \"X\", \"Y\" AS \"Y\", \"Z\" AS \"Z\", upper(regexp_replace(\"CUT\", '[^a-zA-Z0-9]+', '_', 1, 0)) AS \"CUT\" FROM ( SELECT \"carat\" AS \"CARAT\", \"cut\" AS \"CUT\", \"color\" AS \"COLOR\", \"clarity\" AS \"CLARITY\", \"depth\" AS \"DEPTH\", \"table\" AS \"TABLE_PCT\", \"price\" AS \"PRICE\", \"x\" AS \"X\", \"y\" AS \"Y\", \"z\" AS \"Z\" FROM ( SELECT $1::NUMBER(3, 2) AS \"carat\", $2::TEXT AS \"cut\", $3::TEXT AS \"color\", $4::TEXT AS \"clarity\", $5::NUMBER(3, 1) AS \"depth\", $6::NUMBER(3, 1) AS \"table\", $7::NUMBER(5, 0) AS \"price\", $8::NUMBER(4, 2) AS \"x\", $9::NUMBER(4, 2) AS \"y\", $10::NUMBER(4, 2) AS \"z\" FROM @DIAMONDS_ASSETS( FILE_FORMAT  => '\"ML_HOL_DB\".\"ML_HOL_SCHEMA\".SNOWPARK_TEMP_FILE_FORMAT_6ZSBXADUM5')))))\n",
      "--------------------------------------------\n"
     ]
    }
   ],
   "source": [
    "#5.1 - UPPERCASE ALL COLUMN NAMES\n",
    "for colname in diamonds_df.columns:\n",
    "    if colname == '\"table\"':\n",
    "       new_colname = \"TABLE_PCT\"\n",
    "    else:\n",
    "        new_colname = str.upper(colname)\n",
    "    diamonds_df = diamonds_df.with_column_renamed(colname, new_colname)\n",
    "\n",
    "#5.2  - UPPERCASE STRING VALUES (CUT)\n",
    "def fix_values(columnn):\n",
    "    return F.upper(F.regexp_replace(F.col(columnn), '[^a-zA-Z0-9]+', '_'))\n",
    "\n",
    "for col in [\"CUT\"]:\n",
    "    diamonds_df = diamonds_df.with_column(col, fix_values(col))\n",
    "\n",
    "#SQL query explain plan\n",
    "diamonds_df.explain()\n"
   ]
  },
  {
   "cell_type": "code",
   "execution_count": 20,
   "metadata": {},
   "outputs": [
    {
     "name": "stdout",
     "output_type": "stream",
     "text": [
      "----------------------------------------------------------------------------------------------------\n",
      "|\"CARAT\"  |\"COLOR\"  |\"CLARITY\"  |\"DEPTH\"  |\"TABLE_PCT\"  |\"PRICE\"  |\"X\"   |\"Y\"   |\"Z\"   |\"CUT\"      |\n",
      "----------------------------------------------------------------------------------------------------\n",
      "|0.23     |E        |SI2        |61.5     |55.0         |326      |3.95  |3.98  |2.43  |IDEAL      |\n",
      "|0.21     |E        |SI1        |59.8     |61.0         |326      |3.89  |3.84  |2.31  |PREMIUM    |\n",
      "|0.23     |E        |VS1        |56.9     |65.0         |327      |4.05  |4.07  |2.31  |GOOD       |\n",
      "|0.29     |I        |VS2        |62.4     |58.0         |334      |4.20  |4.23  |2.63  |PREMIUM    |\n",
      "|0.31     |J        |SI2        |63.3     |58.0         |335      |4.34  |4.35  |2.75  |GOOD       |\n",
      "|0.24     |J        |VVS2       |62.8     |57.0         |336      |3.94  |3.96  |2.48  |VERY_GOOD  |\n",
      "|0.24     |I        |VVS1       |62.3     |57.0         |336      |3.95  |3.98  |2.47  |VERY_GOOD  |\n",
      "|0.26     |H        |SI1        |61.9     |55.0         |337      |4.07  |4.11  |2.53  |VERY_GOOD  |\n",
      "|0.22     |E        |VS2        |65.1     |61.0         |337      |3.87  |3.78  |2.49  |FAIR       |\n",
      "|0.23     |H        |VS1        |59.4     |61.0         |338      |4.00  |4.05  |2.39  |VERY_GOOD  |\n",
      "----------------------------------------------------------------------------------------------------\n",
      "\n"
     ]
    }
   ],
   "source": [
    "#Preview cleaned data\n",
    "diamonds_df.show()"
   ]
  },
  {
   "cell_type": "markdown",
   "metadata": {},
   "source": [
    "### SKIP TO NEXT BLOCK \n",
    "- NEED TO PACKAGE UP AND IMPORT TYLER'S UPPERCASE FUNCTIONS IN COMMON.PY"
   ]
  },
  {
   "cell_type": "code",
   "execution_count": 27,
   "metadata": {},
   "outputs": [],
   "source": [
    "def convert_to_all_caps(c):\n",
    "    \"\"\"\n",
    "    Converts a given string to all capital letters and separates words with underscores.\n",
    "\n",
    "    Args:\n",
    "        c (str): The input string to be converted.\n",
    "\n",
    "    Returns:\n",
    "        str: The converted string with all capital letters and underscores separating words.\n",
    "    \"\"\"\n",
    "    return re.sub(\n",
    "        r\"(?<=[a-z])(?=[A-Z])|(?<=[A-Z])(?=[A-Z][a-z])\",\n",
    "        \"_\",\n",
    "        c,\n",
    "    ).upper()\n",
    "\n",
    "def rename_columns_all_caps(diamonds_df):\n",
    "    \"\"\"\n",
    "    Renames all columns in the DataFrame to uppercase.\n",
    "\n",
    "    Args:\n",
    "        df (snowpark.DataFrame): The input DataFrame.\n",
    "\n",
    "    Returns:\n",
    "        snowpark.DataFrame: The DataFrame with all column names converted to uppercase.\n",
    "    \"\"\"\n",
    "    return diamonds_df.to_df([convert_to_all_caps(c) for c in diamonds_df.columns])\n",
    "\n",
    "diamonds_df = rename_columns_all_caps(diamonds_df)"
   ]
  },
  {
   "cell_type": "markdown",
   "metadata": {},
   "source": [
    "### STEP 6 - Data Serving\n",
    "Write cleaned data to a Snowflake table"
   ]
  },
  {
   "cell_type": "code",
   "execution_count": 21,
   "metadata": {},
   "outputs": [
    {
     "name": "stdout",
     "output_type": "stream",
     "text": [
      "Created Diamonds table with diamonds_df inferred schema!\n"
     ]
    }
   ],
   "source": [
    "#write diamonds data to Snowflake table\n",
    "diamonds_df.write.save_as_table(\"Diamonds\", mode=\"overwrite\")\n",
    "# SNOWFLAKE ADVANTAGE: Snowflake Tables (not file-based)\n",
    "\n",
    "print(\"Created Diamonds table with diamonds_df inferred schema!\")"
   ]
  },
  {
   "cell_type": "markdown",
   "metadata": {},
   "source": [
    "## Dynamic Feature Engineering\n",
    "### STEP 7 - Select numerical and categorical `feature` columns from the `diamonds` schema \n",
    "\n",
    "Categorize all the `features` for processing! This will be useful for both the ML training & inference steps to have standarized feature transformations."
   ]
  },
  {
   "cell_type": "markdown",
   "metadata": {},
   "source": [
    "7.1  - Read clean diamonds table into snowpark dataframe"
   ]
  },
  {
   "cell_type": "code",
   "execution_count": 8,
   "metadata": {},
   "outputs": [],
   "source": [
    "# Read DIAMONDS table back into a snowpark diamonds_df\n",
    "diamonds_df = session.table('\"ML_HOL_DB\".\"ML_HOL_SCHEMA\".Diamonds')\n"
   ]
  },
  {
   "cell_type": "markdown",
   "metadata": {},
   "source": [
    "7.2 - Manual Feature Selection - WRONG WAY! SKIP TO NEXT BLOCK"
   ]
  },
  {
   "cell_type": "code",
   "execution_count": 9,
   "metadata": {},
   "outputs": [],
   "source": [
    "# 7.2 - SKIP - WRONG WAY OF DOING THIS! \n",
    "#Categorize all the features for processing\n",
    "CATEGORICAL_COLUMNS = [\"CUT\", \"COLOR\", \"CLARITY\"]\n",
    "CATEGORICAL_COLUMNS_OE = [ \"COLOR_OE\", \"CLARITY_OE\"] # To name the ordinal encoded columns\n",
    "CATEGORICAL_COLUMNS_OHE = [\"CUT_OHE\"]\n",
    "NUMERICAL_COLUMNS = [\"CARAT\", \"DEPTH\", \"TABLE_PCT\", \"X\", \"Y\", \"Z\"]\n",
    "\n",
    "categories = {\n",
    "    \"CUT\": np.array([\"IDEAL\", \"PREMIUM\", \"VERY_GOOD\", \"GOOD\", \"FAIR\"]),\n",
    "    \"CLARITY\": np.array([\"IF\", \"VVS1\", \"VVS2\", \"VS1\", \"VS2\", \"SI1\", \"SI2\", \"I1\", \"I2\", \"I3\"]),\n",
    "    \"COLOR\": np.array(['D', 'E', 'F', 'G', 'H', 'I', 'J']),\n",
    "}"
   ]
  },
  {
   "cell_type": "markdown",
   "metadata": {},
   "source": [
    "\n",
    "\n",
    "7.3 Dynamically select ALL numerical feature columns from diamonds_df schema `CARAT`, `DEPTH`, `TABLE_PCT`, `X`, `Y`, `Z` to normalize using `MinMaxScaler` "
   ]
  },
  {
   "cell_type": "code",
   "execution_count": 23,
   "metadata": {},
   "outputs": [
    {
     "name": "stdout",
     "output_type": "stream",
     "text": [
      "['CARAT', 'DEPTH', 'TABLE_PCT', 'X', 'Y', 'Z']\n",
      "['CARAT_NORM', 'DEPTH_NORM', 'TABLE_PCT_NORM', 'X_NORM', 'Y_NORM', 'Z_NORM']\n"
     ]
    }
   ],
   "source": [
    "# Define the label column\n",
    "output_actual = ['PRICE']\n",
    "\n",
    "# # What are the numeric columns? ...'CARAT', 'DEPTH', 'TABLE_PCT', 'X', 'Y', 'Z'\n",
    "# Define Snowflake numeric types\n",
    "numeric_types = [T.DecimalType, T.DoubleType, T.FloatType, T.IntegerType, T.LongType]\n",
    "\n",
    "# # Get numeric columns to min max scale\n",
    "cols_to_scale = [col.name for col in diamonds_df.schema.fields if type(col.datatype) in numeric_types]\n",
    "\n",
    "# remove the output\n",
    "cols_to_scale.remove('PRICE')\n",
    "scale_cols_output = [col + '_NORM' for col in cols_to_scale]\n",
    "print(cols_to_scale)\n",
    "print(scale_cols_output)"
   ]
  },
  {
   "cell_type": "markdown",
   "metadata": {},
   "source": [
    "7.4 - Dynamically select categorical (string) feature columns from diamonds_df schema `COLOR`, `CUT` and `CLARITY`to transform into numerical values using `OrdinalEncoder`  or `OneHotEncoder`"
   ]
  },
  {
   "cell_type": "code",
   "execution_count": 24,
   "metadata": {},
   "outputs": [
    {
     "name": "stdout",
     "output_type": "stream",
     "text": [
      "['COLOR', 'CLARITY', 'CUT']\n"
     ]
    }
   ],
   "source": [
    "# # What are the categorical columns?\n",
    "# # Define Snowflake categorical types\n",
    "categorical_types = [T.StringType]\n",
    "\n",
    "# # Get categorical columns\n",
    "cat_cols = [col.name for col in diamonds_df.schema.fields if type(col.datatype) in categorical_types]\n",
    "print(cat_cols)"
   ]
  },
  {
   "cell_type": "markdown",
   "metadata": {},
   "source": [
    "7.5  - Dynamically define input columns and output columns for `OrdinalEncoder`  or `OneHotEncoder` "
   ]
  },
  {
   "cell_type": "code",
   "execution_count": 25,
   "metadata": {},
   "outputs": [
    {
     "name": "stdout",
     "output_type": "stream",
     "text": [
      "['CLARITY', 'COLOR']\n",
      "['CLARITY_OE', 'COLOR_OE']\n",
      "['CUT']\n",
      "['CUT_OHE']\n"
     ]
    }
   ],
   "source": [
    "\n",
    "# We COULD ordinally encode all of these columns. However for the sake of the demo we will OHE 'CUT'.\n",
    "cols_to_ohe = ['CUT']\n",
    "\n",
    "# ohe_cols_output = diamonds_df.select(\"CUT\").distinct().to_pandas()\n",
    "# ohe_cols_output = ohe_cols_output['CUT'].tolist()\n",
    "# display(ohe_cols_output)\n",
    "# ohe_cols_output = [col + '_OHE' for col in ohe_cols_output]\n",
    "ohe_cols_output = [col + '_OHE' for col in cols_to_ohe]\n",
    "\n",
    "# So I could typcially just list the smaller of the two sets (ones to OE or OHE) and then do list subraction to set the larger list dynamically.\n",
    "# I do this so I only have to explicitly define the smaller of the two categorical lists (either OHE or OE)\n",
    "set1 = set(cat_cols)\n",
    "set2 = set(cols_to_ohe)\n",
    "cols_to_oe = list(set1 - set2)\n",
    "oe_cols_output = [col + '_OE' for col in cols_to_oe]\n",
    "\n",
    "print(cols_to_oe)\n",
    "print(oe_cols_output)\n",
    "print(cols_to_ohe)\n",
    "print(ohe_cols_output)"
   ]
  },
  {
   "cell_type": "markdown",
   "metadata": {},
   "source": [
    "## Pre-processing + Model Training"
   ]
  },
  {
   "cell_type": "markdown",
   "metadata": {},
   "source": [
    "### STEP 8 - Build the `scikitlearn` Pre-processing and `XGBReg` Model Training Pipeline using the `Snowpark ML Modeling API`"
   ]
  },
  {
   "cell_type": "markdown",
   "metadata": {},
   "source": [
    "Build the pre-processing + training pipeline"
   ]
  },
  {
   "cell_type": "code",
   "execution_count": 26,
   "metadata": {},
   "outputs": [
    {
     "name": "stderr",
     "output_type": "stream",
     "text": [
      "Package 'fastparquet' is not installed in the local environment. Your UDF might not work when the package is installed on the server but not on your local environment.\n",
      "The version of package 'pyarrow' in the local environment is 15.0.0, which does not fit the criteria for the requirement 'pyarrow<14'. Your UDF might not work when the package version is different between the server and your local environment.\n"
     ]
    },
    {
     "name": "stdout",
     "output_type": "stream",
     "text": [
      "------------------------------------------------------------------------------------------------------------------------------------------------------------------------------------------------------------------------------------------------------------------------------------------------------------------------------------------------------\n",
      "|\"CUT_OHE_GOOD\"  |\"TABLE_PCT\"  |\"CUT_OHE_FAIR\"  |\"CUT_OHE_PREMIUM\"  |\"CUT_OHE_VERY_GOOD\"  |\"DEPTH\"  |\"X\"   |\"Y_NORM\"             |\"X_NORM\"             |\"CUT_OHE_IDEAL\"  |\"Y\"   |\"CARAT\"  |\"DEPTH_NORM\"         |\"Z_NORM\"             |\"Z\"   |\"TABLE_PCT_NORM\"     |\"PRICE\"  |\"COLOR_OE\"  |\"CARAT_NORM\"           |\"CLARITY_OE\"  |\"PREDICTED_PRICE\"  |\n",
      "------------------------------------------------------------------------------------------------------------------------------------------------------------------------------------------------------------------------------------------------------------------------------------------------------------------------------------------------------\n",
      "|0               |55.0         |0               |0                  |0                    |61.5     |3.95  |0.12515723270440252  |0.386119257086999    |1                |3.98  |0.23     |0.5138888888888888   |0.07641509433962265  |2.43  |0.23076923076923073  |326      |1.0         |0.0069767441860465115  |6.0           |349                |\n",
      "|0               |61.0         |0               |1                  |0                    |59.8     |3.89  |0.12075471698113208  |0.38025415444770283  |0                |3.84  |0.21     |0.46666666666666656  |0.07264150943396226  |2.31  |0.34615384615384615  |326      |1.0         |0.002325581395348837   |5.0           |333                |\n",
      "|0               |58.0         |0               |1                  |0                    |62.4     |4.2   |0.13301886792452833  |0.41055718475073316  |0                |4.23  |0.29     |0.5388888888888888   |0.08270440251572327  |2.63  |0.28846153846153844  |334      |5.0         |0.020930232558139528   |4.0           |372                |\n",
      "|1               |58.0         |0               |0                  |0                    |63.3     |4.34  |0.13679245283018868  |0.4242424242424242   |0                |4.35  |0.31     |0.5638888888888887   |0.08647798742138364  |2.75  |0.28846153846153844  |335      |6.0         |0.025581395348837202   |6.0           |325                |\n",
      "|0               |55.0         |0               |0                  |1                    |61.9     |4.07  |0.12924528301886792  |0.39784946236559143  |0                |4.11  |0.26     |0.5249999999999999   |0.07955974842767295  |2.53  |0.23076923076923073  |337      |4.0         |0.013953488372093023   |5.0           |300                |\n",
      "|0               |61.0         |1               |0                  |0                    |65.1     |3.87  |0.11886792452830187  |0.3782991202346041   |0                |3.78  |0.22     |0.6138888888888887   |0.07830188679245284  |2.49  |0.34615384615384615  |337      |1.0         |0.004651162790697674   |4.0           |344                |\n",
      "|0               |61.0         |0               |0                  |1                    |59.4     |4.0   |0.12735849056603774  |0.39100684261974583  |0                |4.05  |0.23     |0.4555555555555555   |0.07515723270440251  |2.39  |0.34615384615384615  |338      |4.0         |0.0069767441860465115  |3.0           |341                |\n",
      "|1               |55.0         |0               |0                  |0                    |64.0     |4.25  |0.13459119496855346  |0.4154447702834799   |0                |4.28  |0.3      |0.5833333333333333   |0.08584905660377358  |2.73  |0.23076923076923073  |339      |6.0         |0.023255813953488372   |5.0           |316                |\n",
      "|0               |56.0         |0               |0                  |0                    |62.8     |3.93  |0.12264150943396226  |0.3841642228739003   |1                |3.9   |0.23     |0.5499999999999998   |0.07735849056603773  |2.46  |0.2500000000000001   |340      |6.0         |0.0069767441860465115  |3.0           |340                |\n",
      "|0               |54.0         |0               |0                  |0                    |62.2     |4.35  |0.13742138364779874  |0.42521994134897356  |1                |4.37  |0.31     |0.5333333333333334   |0.08522012578616352  |2.71  |0.21153846153846156  |344      |6.0         |0.025581395348837202   |6.0           |339                |\n",
      "------------------------------------------------------------------------------------------------------------------------------------------------------------------------------------------------------------------------------------------------------------------------------------------------------------------------------------------------------\n",
      "\n",
      "-------------------------------\n",
      "|\"PRICE\"  |\"PREDICTED_PRICE\"  |\n",
      "-------------------------------\n",
      "|326      |349                |\n",
      "|326      |333                |\n",
      "|334      |372                |\n",
      "|335      |325                |\n",
      "|337      |300                |\n",
      "|337      |344                |\n",
      "|338      |341                |\n",
      "|339      |316                |\n",
      "|340      |340                |\n",
      "|344      |339                |\n",
      "-------------------------------\n",
      "\n",
      "Model has been trained and evaluated!\n",
      "Mean absolute percentage error: 0.041348384757\n",
      "Mean squared error: 33136.41865656026\n"
     ]
    }
   ],
   "source": [
    "# ~4.5min WITH XS --> 3min 35s WITH S --> 2min 40S WITH M --> 2min 15s WITH L \n",
    "# 8.1 - Define the arrays of values for each categorical features\n",
    "categories = {\n",
    "    \"CLARITY\": np.array([\"IF\", \"VVS1\", \"VVS2\", \"VS1\", \"VS2\", \"SI1\", \"SI2\", \"I1\", \"I2\", \"I3\"]),\n",
    "    \"COLOR\": np.array(['D', 'E', 'F', 'G', 'H', 'I', 'J']),\n",
    "}\n",
    "#8.2  - define the parameters for model training\n",
    "parameters = {\n",
    "\"n_estimators\":[100, 200, 300, 400, 500],\n",
    "\"learning_rate\":[0.1, 0.2, 0.3, 0.4, 0.5],\n",
    "}\n",
    "\n",
    "#8.3 - Define the pre-processing steps\n",
    "#SNOWML ADVANTAGE: Hyper-parallelization and Code Abstraction\n",
    "#SNOWML ADVANTAGE: SQL Pushdown Optimization\n",
    "# 1) MinMax scale 'CARAT', 'DEPTH', 'TABLE_PCT', 'X', 'Y', 'Z'\n",
    "snowml_mms = snowml.MinMaxScaler(\n",
    "                clip=True,\n",
    "                input_cols=cols_to_scale,\n",
    "                output_cols=scale_cols_output,\n",
    "            )\n",
    "# 2) Ordinal Encode COLOR, CLARITY from categorical to numerical\n",
    "snowml_oe = snowml.OrdinalEncoder(\n",
    "                input_cols=cols_to_oe,\n",
    "                output_cols=oe_cols_output,\n",
    "                categories=categories,\n",
    "                drop_input_cols=True,\n",
    "            )\n",
    "# 3) One Hot Encode CUT from categorical to numerical\n",
    "snowml_ohe = snowml.OneHotEncoder(\n",
    "                input_cols=cols_to_ohe,\n",
    "                output_cols=ohe_cols_output,\n",
    "                drop_input_cols=True,\n",
    "            )\n",
    "\n",
    "#8.4 - Gridsearch cross validation on XGBRegressor\n",
    "# scale compute up for hyperparameter tuning\n",
    "session.sql(\"ALTER WAREHOUSE ML_HOL_WH SET WAREHOUSE_SIZE=MEDIUM;\").collect()\n",
    "snowml_gscv = GridSearchCV(\n",
    "                estimator=XGBRegressor(),\n",
    "                param_grid=parameters,\n",
    "                n_jobs = -1,\n",
    "                scoring=\"neg_mean_absolute_percentage_error\",\n",
    "                #input_cols= model_input_cols,\n",
    "                #passthrough_cols=\"UNIQUE_KEY\",\n",
    "                label_cols=output_actual,\n",
    "                output_cols=['PREDICTED_PRICE']\n",
    "            )\n",
    "\n",
    "#8.5 Create pipeline\n",
    "pipeline = Pipeline(\n",
    "[(\"MMS\", snowml_mms), (\"OE\", snowml_oe), (\"OHE\", snowml_ohe),(\"XGBReg_GSCV\", snowml_gscv)]\n",
    ")\n",
    "\n",
    "#8.6 Split data, Train the model & Make/Show Predictions\n",
    "train_df, test_df = diamonds_df.random_split([0.8, 0.2], seed=42)\n",
    "pipeline.fit(train_df)\n",
    "result_df = pipeline.predict(train_df)\n",
    "result_df.show()\n",
    "\n",
    "#8.7 - Calculate Accuracy Metrics - MAPE & MSE\n",
    "LABEL_COLUMNS = ['PRICE']\n",
    "OUTPUT_COLUMNS = ['PREDICTED_PRICE']\n",
    "metrics = {\n",
    "    \"Mean absolute percentage error\": mean_absolute_percentage_error(\n",
    "        df=result_df, \n",
    "        y_true_col_names=LABEL_COLUMNS, \n",
    "        y_pred_col_names=OUTPUT_COLUMNS\n",
    "    ),\n",
    "    \"Mean squared error\": mean_squared_error(\n",
    "        df=result_df, \n",
    "        y_true_col_names=LABEL_COLUMNS, \n",
    "        y_pred_col_names=OUTPUT_COLUMNS\n",
    "    ),\n",
    "}\n",
    "#View accuracy metrics\n",
    "result_df.select([*LABEL_COLUMNS, *OUTPUT_COLUMNS]).show()\n",
    "print(\"Model has been trained and evaluated!\")\n",
    "print(f'''Mean absolute percentage error: {metrics[\"Mean absolute percentage error\"]}''')\n",
    "print(f'''Mean squared error: {metrics[\"Mean squared error\"]}''')\n",
    "\n"
   ]
  },
  {
   "cell_type": "code",
   "execution_count": 27,
   "metadata": {},
   "outputs": [
    {
     "data": {
      "text/plain": [
       "[Row(status='Statement executed successfully.')]"
      ]
     },
     "execution_count": 27,
     "metadata": {},
     "output_type": "execute_result"
    }
   ],
   "source": [
    "# scale compute down after hyperparameter tuning\n",
    "session.sql(\"ALTER WAREHOUSE ML_HOL_WH SET WAREHOUSE_SIZE=XSMALL;\").collect()"
   ]
  },
  {
   "cell_type": "markdown",
   "metadata": {},
   "source": [
    "8.8 - Viusalizations - plot actual vs predicted using `saeborn` replot function"
   ]
  },
  {
   "cell_type": "code",
   "execution_count": 28,
   "metadata": {},
   "outputs": [
    {
     "data": {
      "image/png": "[encoded data removed]",
      "text/plain": [
       "<Figure size 500x500 with 1 Axes>"
      ]
     },
     "metadata": {},
     "output_type": "display_data"
    }
   ],
   "source": [
    "#8.8 - Plot actual vs predicted \n",
    "g = sns.relplot(data=result_df[\"PRICE\", \"PREDICTED_PRICE\"].to_pandas().astype(\"float64\"), x=\"PRICE\", y=\"PREDICTED_PRICE\", kind=\"scatter\")\n",
    "g.ax.axline((0,0), slope=1, color=\"r\")\n",
    "\n",
    "plt.show()"
   ]
  },
  {
   "cell_type": "markdown",
   "metadata": {},
   "source": [
    "# MLOps \n",
    "### STEP 9 - Model Management using `MLOps API`\n",
    "\n",
    "Now, with Snowpark ML's  model registry, we have a Snowflake native model versioning and deployment framework. This allows us to log models, tag parameters and metrics, track metadata, create versions, and ultimately execute batch inference tasks in a Snowflake warehouse or deploy to a Snowpark Container Service for live inference"
   ]
  },
  {
   "cell_type": "markdown",
   "metadata": {},
   "source": [
    "9.2  - First, we define model versioning function"
   ]
  },
  {
   "cell_type": "code",
   "execution_count": 30,
   "metadata": {},
   "outputs": [],
   "source": [
    "# Model Versioning function - need to package it and import it from common.py \n",
    "def get_next_version(reg, model_name) -> str:\n",
    "    \"\"\"\n",
    "    Returns the next version of a model based on the existing versions in the registry.\n",
    "\n",
    "    Args:\n",
    "        reg: The registry object that provides access to the models.\n",
    "        model_name: The name of the model.\n",
    "\n",
    "    Returns:\n",
    "        str: The next version of the model in the format \"V_<version_number>\".\n",
    "\n",
    "    Raises:\n",
    "        ValueError: If the version list for the model is empty or if the version format is invalid.\n",
    "    \"\"\"\n",
    "    models = reg.show_models()\n",
    "    if models.empty:\n",
    "        return \"V_1\"\n",
    "    elif model_name not in models[\"name\"].to_list():\n",
    "        return \"V_1\"\n",
    "    max_version_number = max(\n",
    "        [\n",
    "            int(version.split(\"_\")[-1])\n",
    "            for version in ast.literal_eval(\n",
    "                models.loc[models[\"name\"] == model_name, \"versions\"].values[0]\n",
    "            )\n",
    "        ]\n",
    "    )\n",
    "    return f\"V_{max_version_number + 1}\""
   ]
  },
  {
   "cell_type": "markdown",
   "metadata": {},
   "source": [
    "9.2  - Next, we will log our models and performance metrics."
   ]
  },
  {
   "cell_type": "code",
   "execution_count": 32,
   "metadata": {},
   "outputs": [
    {
     "name": "stdout",
     "output_type": "stream",
     "text": [
      "Model Version and Metrics have been logged in Registry!\n"
     ]
    },
    {
     "data": {
      "text/html": [
       "<div>\n",
       "<style scoped>\n",
       "    .dataframe tbody tr th:only-of-type {\n",
       "        vertical-align: middle;\n",
       "    }\n",
       "\n",
       "    .dataframe tbody tr th {\n",
       "        vertical-align: top;\n",
       "    }\n",
       "\n",
       "    .dataframe thead th {\n",
       "        text-align: right;\n",
       "    }\n",
       "</style>\n",
       "<table border=\"1\" class=\"dataframe\">\n",
       "  <thead>\n",
       "    <tr style=\"text-align: right;\">\n",
       "      <th></th>\n",
       "      <th>created_on</th>\n",
       "      <th>name</th>\n",
       "      <th>database_name</th>\n",
       "      <th>schema_name</th>\n",
       "      <th>comment</th>\n",
       "      <th>owner</th>\n",
       "      <th>default_version_name</th>\n",
       "      <th>versions</th>\n",
       "    </tr>\n",
       "  </thead>\n",
       "  <tbody>\n",
       "    <tr>\n",
       "      <th>0</th>\n",
       "      <td>2024-04-03 11:29:34.471000-07:00</td>\n",
       "      <td>DIAMONDS_PRICE_PREDICTION</td>\n",
       "      <td>ML_HOL_DB</td>\n",
       "      <td>ML_HOL_SCHEMA</td>\n",
       "      <td>None</td>\n",
       "      <td>SYSADMIN</td>\n",
       "      <td>V_1</td>\n",
       "      <td>[\"V_1\",\"V_2\"]</td>\n",
       "    </tr>\n",
       "  </tbody>\n",
       "</table>\n",
       "</div>"
      ],
      "text/plain": [
       "                        created_on                       name database_name  \\\n",
       "0 2024-04-03 11:29:34.471000-07:00  DIAMONDS_PRICE_PREDICTION     ML_HOL_DB   \n",
       "\n",
       "     schema_name comment     owner default_version_name       versions  \n",
       "0  ML_HOL_SCHEMA    None  SYSADMIN                  V_1  [\"V_1\",\"V_2\"]  "
      ]
     },
     "metadata": {},
     "output_type": "display_data"
    }
   ],
   "source": [
    "#9.2 - LOGGING MODEL + METRICS IN REGISTRY\n",
    "reg = Registry(session=session, database_name=\"ML_HOL_DB\", schema_name=\"ML_HOL_SCHEMA\")\n",
    "reg.log_model(\n",
    "    model_name=\"DIAMONDS_PRICE_PREDICTION\",\n",
    "    version_name=get_next_version(reg, \"DIAMONDS_PRICE_PREDICTION\"),\n",
    "    model=pipeline,\n",
    "    metrics=metrics,\n",
    ")\n",
    "print(\"Model Version and Metrics have been logged in Registry!\")\n",
    "reg_df = reg.show_models()\n",
    "display(reg_df)"
   ]
  },
  {
   "cell_type": "markdown",
   "metadata": {},
   "source": [
    "9.3 - Sort model version based on accuracy in order to deploy the best model for batch inference!"
   ]
  },
  {
   "cell_type": "code",
   "execution_count": 33,
   "metadata": {},
   "outputs": [
    {
     "name": "stdout",
     "output_type": "stream",
     "text": [
      "Model version for deployment has been selected:\n"
     ]
    },
    {
     "data": {
      "text/plain": [
       "'V_1'"
      ]
     },
     "execution_count": 33,
     "metadata": {},
     "output_type": "execute_result"
    }
   ],
   "source": [
    "# 9.3 - Get the model\n",
    "# first creates a Registry object or uses existing one, which is used to manage models in Snowflake.\n",
    "reg = Registry(session=session, database_name=\"ML_HOL_DB\", schema_name=\"ML_HOL_SCHEMA\")\n",
    "\n",
    "# retrieves all the models in the registry and stores them in reg_df.\n",
    "reg_df = reg.show_models()\n",
    "\n",
    "# specifies the name of the model to use for prediction\n",
    "model_name = 'DIAMONDS_PRICE_PREDICTION'\n",
    "print(\"Model version for deployment has been selected:\")\n",
    "# Retrieves the specified model and its versions.\n",
    "reg_df = reg.get_model(model_name).show_versions()\n",
    "# print(reg_df.metadata)\n",
    "\n",
    "# # Adds a new column \"Mean absolute percentage rrror\" to reg_df by extracting it from the metadata of each version.\n",
    "reg_df[\"Mean absolute percentage error\"] = reg_df[\"metadata\"].apply(\n",
    "        lambda x: json.loads(x)[\"metrics\"][\"Mean absolute percentage error\"]\n",
    "     )\n",
    "# # sorts the versions by accuracy in descending order and selects the version with the highest accuracy as the deployed version.\n",
    "best_model = reg_df.sort_values(by=\"Mean absolute percentage error\", ascending=False)\n",
    "deployed_version = best_model[\"name\"].iloc[0]\n",
    "\n",
    "# # Sets the default version of the model to the deployed version.\n",
    "m = reg.get_model(model_name)\n",
    "m.default = deployed_version\n",
    "mv = m.default\n",
    "mv.version_name\n",
    "\n",
    "\n",
    "\n"
   ]
  },
  {
   "cell_type": "markdown",
   "metadata": {},
   "source": [
    "## Deploy model for Batch Inference on test `diamonds` data"
   ]
  },
  {
   "cell_type": "code",
   "execution_count": 34,
   "metadata": {},
   "outputs": [
    {
     "name": "stdout",
     "output_type": "stream",
     "text": [
      "----------------------------------------------------------------------------------------------------\n",
      "|\"CARAT\"  |\"COLOR\"  |\"CLARITY\"  |\"DEPTH\"  |\"TABLE_PCT\"  |\"PRICE\"  |\"X\"   |\"Y\"   |\"Z\"   |\"CUT\"      |\n",
      "----------------------------------------------------------------------------------------------------\n",
      "|0.23     |E        |VS1        |56.9     |65.0         |327      |4.05  |4.07  |2.31  |GOOD       |\n",
      "|0.24     |J        |VVS2       |62.8     |57.0         |336      |3.94  |3.96  |2.48  |VERY_GOOD  |\n",
      "|0.24     |I        |VVS1       |62.3     |57.0         |336      |3.95  |3.98  |2.47  |VERY_GOOD  |\n",
      "|0.22     |F        |SI1        |60.4     |61.0         |342      |3.88  |3.84  |2.33  |PREMIUM    |\n",
      "|0.23     |H        |VS1        |61.0     |57.0         |353      |3.94  |3.96  |2.41  |VERY_GOOD  |\n",
      "|0.23     |F        |VS1        |60.9     |57.0         |357      |3.96  |3.99  |2.42  |VERY_GOOD  |\n",
      "|0.23     |F        |VS1        |59.8     |57.0         |402      |4.04  |4.06  |2.42  |VERY_GOOD  |\n",
      "|0.26     |D        |VS1        |58.4     |63.0         |403      |4.19  |4.24  |2.46  |GOOD       |\n",
      "|0.29     |H        |SI2        |60.7     |60.0         |404      |4.33  |4.37  |2.64  |VERY_GOOD  |\n",
      "|0.23     |G        |VS1        |61.9     |54.0         |404      |3.93  |3.95  |2.44  |IDEAL      |\n",
      "----------------------------------------------------------------------------------------------------\n",
      "\n",
      "[{'name': 'PREDICT', 'target_method': 'predict', 'signature': ModelSignature(\n",
      "                    inputs=[\n",
      "                        FeatureSpec(dtype=DataType.DOUBLE, name='CARAT'),\n",
      "\t\tFeatureSpec(dtype=DataType.STRING, name='COLOR'),\n",
      "\t\tFeatureSpec(dtype=DataType.STRING, name='CLARITY'),\n",
      "\t\tFeatureSpec(dtype=DataType.DOUBLE, name='DEPTH'),\n",
      "\t\tFeatureSpec(dtype=DataType.DOUBLE, name='TABLE_PCT'),\n",
      "\t\tFeatureSpec(dtype=DataType.DOUBLE, name='X'),\n",
      "\t\tFeatureSpec(dtype=DataType.DOUBLE, name='Y'),\n",
      "\t\tFeatureSpec(dtype=DataType.DOUBLE, name='Z'),\n",
      "\t\tFeatureSpec(dtype=DataType.STRING, name='CUT')\n",
      "                    ],\n",
      "                    outputs=[\n",
      "                        FeatureSpec(dtype=DataType.INT8, name='CUT_OHE_FAIR'),\n",
      "\t\tFeatureSpec(dtype=DataType.INT8, name='CUT_OHE_GOOD'),\n",
      "\t\tFeatureSpec(dtype=DataType.INT8, name='CUT_OHE_IDEAL'),\n",
      "\t\tFeatureSpec(dtype=DataType.INT8, name='CUT_OHE_PREMIUM'),\n",
      "\t\tFeatureSpec(dtype=DataType.INT8, name='CUT_OHE_VERY_GOOD'),\n",
      "\t\tFeatureSpec(dtype=DataType.DOUBLE, name='CLARITY_OE'),\n",
      "\t\tFeatureSpec(dtype=DataType.DOUBLE, name='COLOR_OE'),\n",
      "\t\tFeatureSpec(dtype=DataType.DOUBLE, name='CARAT_NORM'),\n",
      "\t\tFeatureSpec(dtype=DataType.DOUBLE, name='DEPTH_NORM'),\n",
      "\t\tFeatureSpec(dtype=DataType.DOUBLE, name='TABLE_PCT_NORM'),\n",
      "\t\tFeatureSpec(dtype=DataType.DOUBLE, name='X_NORM'),\n",
      "\t\tFeatureSpec(dtype=DataType.DOUBLE, name='Y_NORM'),\n",
      "\t\tFeatureSpec(dtype=DataType.DOUBLE, name='Z_NORM'),\n",
      "\t\tFeatureSpec(dtype=DataType.DOUBLE, name='CARAT'),\n",
      "\t\tFeatureSpec(dtype=DataType.DOUBLE, name='DEPTH'),\n",
      "\t\tFeatureSpec(dtype=DataType.DOUBLE, name='TABLE_PCT'),\n",
      "\t\tFeatureSpec(dtype=DataType.DOUBLE, name='X'),\n",
      "\t\tFeatureSpec(dtype=DataType.DOUBLE, name='Y'),\n",
      "\t\tFeatureSpec(dtype=DataType.DOUBLE, name='Z'),\n",
      "\t\tFeatureSpec(dtype=DataType.DOUBLE, name='PREDICTED_PRICE')\n",
      "                    ]\n",
      "                )}]\n",
      "----------------------------------------------------------------------------------------------------------------------------------------------------------------------------------------------------------------------------------------------------------------------------------------------------------------------------------------------------------------------------------------\n",
      "|\"COLOR\"  |\"CLARITY\"  |\"PRICE\"  |\"CUT\"      |\"CUT_OHE_FAIR\"  |\"CUT_OHE_GOOD\"  |\"CUT_OHE_IDEAL\"  |\"CUT_OHE_PREMIUM\"  |\"CUT_OHE_VERY_GOOD\"  |\"CLARITY_OE\"  |\"COLOR_OE\"  |\"CARAT_NORM\"           |\"DEPTH_NORM\"         |\"TABLE_PCT_NORM\"     |\"X_NORM\"             |\"Y_NORM\"             |\"Z_NORM\"             |\"CARAT\"  |\"DEPTH\"  |\"TABLE_PCT\"  |\"X\"   |\"Y\"   |\"Z\"   |\"PREDICTED_PRICE\"  |\n",
      "----------------------------------------------------------------------------------------------------------------------------------------------------------------------------------------------------------------------------------------------------------------------------------------------------------------------------------------------------------------------------------------\n",
      "|E        |VS1        |327      |GOOD       |0               |1               |0                |0                  |0                    |3.0           |1.0         |0.0069767441860465115  |0.386111111111111    |0.423076923076923    |0.39589442815249265  |0.1279874213836478   |0.07264150943396226  |0.23     |56.9     |65.0         |4.05  |4.07  |2.31  |350.0281066894531  |\n",
      "|J        |VVS2       |336      |VERY_GOOD  |0               |0               |0                |0                  |1                    |2.0           |6.0         |0.009302325581395349   |0.5499999999999998   |0.2692307692307693   |0.3851417399804497   |0.12452830188679244  |0.0779874213836478   |0.24     |62.8     |57.0         |3.94  |3.96  |2.48  |348.0612487792969  |\n",
      "|I        |VVS1       |336      |VERY_GOOD  |0               |0               |0                |0                  |1                    |1.0           |5.0         |0.009302325581395349   |0.536111111111111    |0.2692307692307693   |0.386119257086999    |0.12515723270440252  |0.07767295597484278  |0.24     |62.3     |57.0         |3.95  |3.98  |2.47  |393.1372375488281  |\n",
      "|F        |SI1        |342      |PREMIUM    |0               |0               |0                |1                  |0                    |5.0           |2.0         |0.004651162790697674   |0.4833333333333332   |0.34615384615384615  |0.37927663734115347  |0.12075471698113208  |0.07327044025157232  |0.22     |60.4     |61.0         |3.88  |3.84  |2.33  |316.1629333496094  |\n",
      "|H        |VS1        |353      |VERY_GOOD  |0               |0               |0                |0                  |1                    |3.0           |4.0         |0.0069767441860465115  |0.5                  |0.2692307692307693   |0.3851417399804497   |0.12452830188679244  |0.07578616352201259  |0.23     |61.0     |57.0         |3.94  |3.96  |2.41  |376.6361389160156  |\n",
      "|F        |VS1        |357      |VERY_GOOD  |0               |0               |0                |0                  |1                    |3.0           |2.0         |0.0069767441860465115  |0.497222222222222    |0.2692307692307693   |0.3870967741935484   |0.12547169811320755  |0.07610062893081761  |0.23     |60.9     |57.0         |3.96  |3.99  |2.42  |452.6636047363281  |\n",
      "|F        |VS1        |402      |VERY_GOOD  |0               |0               |0                |0                  |1                    |3.0           |2.0         |0.0069767441860465115  |0.46666666666666656  |0.2692307692307693   |0.3949169110459433   |0.12767295597484277  |0.07610062893081761  |0.23     |59.8     |57.0         |4.04  |4.06  |2.42  |394.7463684082031  |\n",
      "|D        |VS1        |403      |GOOD       |0               |1               |0                |0                  |0                    |3.0           |0.0         |0.013953488372093025   |0.4277777777777776   |0.3846153846153847   |0.4095796676441838   |0.13333333333333333  |0.07735849056603773  |0.26     |58.4     |63.0         |4.19  |4.24  |2.46  |466.9006042480469  |\n",
      "|H        |SI2        |404      |VERY_GOOD  |0               |0               |0                |0                  |1                    |6.0           |4.0         |0.020930232558139528   |0.4916666666666667   |0.326923076923077    |0.4232649071358749   |0.13742138364779874  |0.08301886792452831  |0.29     |60.7     |60.0         |4.33  |4.37  |2.64  |437.5882873535156  |\n",
      "|G        |VS1        |404      |IDEAL      |0               |0               |1                |0                  |0                    |3.0           |3.0         |0.0069767441860465115  |0.5249999999999999   |0.21153846153846156  |0.3841642228739003   |0.12421383647798742  |0.07672955974842767  |0.23     |61.9     |54.0         |3.93  |3.95  |2.44  |437.6526489257813  |\n",
      "----------------------------------------------------------------------------------------------------------------------------------------------------------------------------------------------------------------------------------------------------------------------------------------------------------------------------------------------------------------------------------------\n",
      "\n",
      "-------------------------------------------------------------------------------------------------------------------------------------------------------------------------------------------------------------------------------------------------------------------------------------------------------------------------------------------------------------------------------\n",
      "|\"COLOR\"  |\"CLARITY\"  |\"PRICE\"  |\"CUT\"  |\"CUT_OHE_FAIR\"  |\"CUT_OHE_GOOD\"  |\"CUT_OHE_IDEAL\"  |\"CUT_OHE_PREMIUM\"  |\"CUT_OHE_VERY_GOOD\"  |\"CLARITY_OE\"  |\"COLOR_OE\"  |\"CARAT_NORM\"           |\"DEPTH_NORM\"       |\"TABLE_PCT_NORM\"   |\"X_NORM\"             |\"Y_NORM\"            |\"Z_NORM\"             |\"CARAT\"  |\"DEPTH\"  |\"TABLE_PCT\"  |\"X\"   |\"Y\"   |\"Z\"   |\"PREDICTED_PRICE\"  |\n",
      "-------------------------------------------------------------------------------------------------------------------------------------------------------------------------------------------------------------------------------------------------------------------------------------------------------------------------------------------------------------------------------\n",
      "|E        |VS1        |327      |GOOD   |0               |1               |0                |0                  |0                    |3.0           |1.0         |0.0069767441860465115  |0.386111111111111  |0.423076923076923  |0.39589442815249265  |0.1279874213836478  |0.07264150943396226  |0.23     |56.9     |65.0         |4.05  |4.07  |2.31  |350.0281066894531  |\n",
      "-------------------------------------------------------------------------------------------------------------------------------------------------------------------------------------------------------------------------------------------------------------------------------------------------------------------------------------------------------------------------------\n",
      "\n"
     ]
    }
   ],
   "source": [
    "\n",
    "#diamonds_df = session.table('\"ML_HOL_DB\".\"ML_HOL_SCHEMA\".diamonds') # reads like SELECT * FROM DIAMONDS; in SQL\n",
    "test_df.show()\n",
    "\n",
    "print(mv.show_functions())\n",
    "remote_prediction = mv.run(test_df, function_name='predict') # https://docs.snowflake.com/en/developer-guide/snowpark-ml/reference/latest/api/model/snowflake.ml.model.ModelVersion\n",
    "remote_prediction.show()\n",
    "\n",
    "remote_prediction = mv.run(test_df.limit(1), function_name='predict')\n",
    "remote_prediction.show()\n"
   ]
  },
  {
   "cell_type": "code",
   "execution_count": 56,
   "metadata": {},
   "outputs": [
    {
     "name": "stdout",
     "output_type": "stream",
     "text": [
      "------------------------------------------------------------------------------------------------\n",
      "|\"CARAT\"  |\"COLOR\"  |\"CLARITY\"  |\"DEPTH\"  |\"TABLE_PCT\"  |\"PRICE\"  |\"X\"   |\"Y\"   |\"Z\"   |\"CUT\"  |\n",
      "------------------------------------------------------------------------------------------------\n",
      "|0.23     |E        |SI2        |61.5     |55.0         |326      |3.95  |3.98  |2.43  |IDEAL  |\n",
      "------------------------------------------------------------------------------------------------\n",
      "\n",
      "Predictions written back to Snowflake table!\n"
     ]
    }
   ],
   "source": [
    "\n",
    "print(\"Predictions written back to Snowflake table!\")\n",
    "remote_prediction.write.save_as_table(\"Diamonds_Predictions\", mode=\"overwrite\")"
   ]
  },
  {
   "cell_type": "markdown",
   "metadata": {},
   "source": [
    "## WIP - Batch Inference on new `diamonds` data"
   ]
  },
  {
   "cell_type": "code",
   "execution_count": null,
   "metadata": {},
   "outputs": [],
   "source": [
    "# create stream (CDC) on diamonds table to capture new diamonds data\n",
    "_ = session.sql(\"CREATE STREAM ML_HOL_SCHEMA.DIAMONDS_STREAM ON TABLE ML_HOL_SCHEMA.DIAMONDS\").collect()\n",
    "# create new target table for fresh diamonds data\n",
    "_ = session.sql(\"CREATE TABLE ML_HOL_SCHEMA.DIAMONDS_2 LIKE ML_HOL_SCHEMA.DIAMONDS\").collect()\n",
    "# \n",
    "# Retrieves the source and target tables from the database.\n",
    "source = session.table('ML_HOL_DB.ML_HOL_SCHEMA.DIAMONDS_STREAM')\n",
    "target = session.table('ML_HOL_DB.ML_HOL_SCHEMA.DIAMONDS_2')\n",
    "\n",
    "# runs the prediction function of the model on the source table and stores the predictions in preds.\n",
    "preds =  mv.run(source, function_name=\"predict\")\n",
    "\n",
    "# prepares the updates to be made to the target table. \n",
    "# The updates include all columns in the predictions that do not contain ‘METADATA’ in their names, and a ‘META_UPDATED_AT’ column that records the current timestamp.\n",
    "# TODO: Is the if clause supposed to be based on \"META_UPDATED_AT\"?\n",
    "cols_to_update = {c: source[c] for c in preds.schema.names if \"METADATA\" not in c}\n",
    "metadata_col_to_update = {\"META_UPDATED_AT\": F.current_timestamp()}\n",
    "updates = {**cols_to_update, **metadata_col_to_update}\n",
    "\n",
    "# merges the predictions into the target table DIAMONDS based on the ‘ID_COL’ column. \n",
    "# If a row in the target table matches a row in the predictions, it updates the row with the updates; if not, it inserts a new row with the updates\n",
    "target.merge(preds, target['ID_COL'] == source['ID_COL'], \\\n",
    "                    [F.when_matched().update(updates), F.when_not_matched().insert(updates)])\n",
    "\n",
    "# Finally, it returns a message indicating that the batch prediction is complete.\n",
    "# you could return the number of rows inserted or updated here if you would like by getting length of F.when_matched() and F.when_not_matched()\n",
    "return \"Batch prediction complete! "
   ]
  },
  {
   "cell_type": "markdown",
   "metadata": {},
   "source": [
    "## Appendix\n",
    "#### Execute batch inference using a Vectorized UDF & Pandas\n",
    "\n",
    "In case you have an existing model outside of our supported frameworks (scikit-learn, xgboost, lightgbm, pytorch, tensorflow, pyfunc), you can still execute batch inference via Vectorized UDFs.\n",
    "\n",
    "Make sure to add your package to the `packages` section in the UDF registration call."
   ]
  },
  {
   "cell_type": "code",
   "execution_count": null,
   "metadata": {},
   "outputs": [],
   "source": [
    "# Let's save our optimal model first\n",
    "MODEL_FILE = 'model.joblib'\n",
    "joblib.dump(optimal_model, MODEL_FILE) # we are just pickling it locally first\n",
    "\n",
    "# You can also save the pickled object into the stage we created earlier\n",
    "session.file.put(MODEL_FILE, \"@ML_HOL_ASSETS\", overwrite=True)\n",
    "\n",
    "# Get all relevant column names to pass into the UDF call\n",
    "feature_cols = test_df[CATEGORICAL_COLUMNS_OE+NUMERICAL_COLUMNS].columns"
   ]
  },
  {
   "cell_type": "code",
   "execution_count": null,
   "metadata": {},
   "outputs": [],
   "source": [
    "# Cache the model load to optimize inference\n",
    "@cachetools.cached(cache={})\n",
    "def load_model(filename):\n",
    "    import joblib\n",
    "    import sys\n",
    "    import os\n",
    "\n",
    "    IMPORT_DIRECTORY_NAME = \"snowflake_import_directory\"\n",
    "    import_dir = sys._xoptions[IMPORT_DIRECTORY_NAME]\n",
    "\n",
    "    if import_dir:\n",
    "        with open(os.path.join(import_dir, filename), 'rb') as file:\n",
    "            m = joblib.load(file)\n",
    "            return m\n",
    "\n",
    "# Register the UDF via decorator\n",
    "@udf(name='batch_predict_diamond', \n",
    "     session=session, \n",
    "     replace=True, \n",
    "     is_permanent=True, \n",
    "     stage_location='@ML_HOL_ASSETS',\n",
    "     input_types=[F.FloatType()]*len(feature_cols),\n",
    "     return_type=F.FloatType(),\n",
    "     imports=['@ML_HOL_ASSETS/model.joblib.gz'],\n",
    "     packages=['pandas','joblib','cachetools','xgboost'])\n",
    "def batch_predict_diamond(test_df: pd.DataFrame) -> pd.Series:\n",
    "    # Need to name the columns because column names aren't passed in to this function\n",
    "    test_df.columns = [\"CUT_OE\", \"COLOR_OE\", \"CLARITY_OE\", 'CARAT', 'DEPTH', 'TABLE_PCT', 'X', 'Y', 'Z']\n",
    "    model = load_model('model.joblib.gz')\n",
    "    return model.predict(test_df) # This is using the XGBoost library's model.predict(), not Snowpark ML's"
   ]
  },
  {
   "cell_type": "markdown",
   "metadata": {},
   "source": [
    "Call Vectorized User-Defined Function (UDF) on test data."
   ]
  },
  {
   "cell_type": "code",
   "execution_count": null,
   "metadata": {},
   "outputs": [],
   "source": [
    "test_df_w_preds = test_df.with_column('PREDICTED_PRICE', batch_predict_diamond(*feature_cols))\n",
    "test_df_w_preds.show()"
   ]
  }
 ],
 "metadata": {
  "kernelspec": {
   "display_name": "snowpark2023",
   "language": "python",
   "name": "python3"
  },
  "language_info": {
   "codemirror_mode": {
    "name": "ipython",
    "version": 3
   },
   "file_extension": ".py",
   "mimetype": "text/x-python",
   "name": "python",
   "nbconvert_exporter": "python",
   "pygments_lexer": "ipython3",
   "version": "3.11.7"
  }
 },
 "nbformat": 4,
 "nbformat_minor": 2
}
